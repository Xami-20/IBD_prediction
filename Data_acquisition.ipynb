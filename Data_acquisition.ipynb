{
  "cells": [
    {
      "cell_type": "markdown",
      "metadata": {
        "id": "view-in-github",
        "colab_type": "text"
      },
      "source": [
        "<a href=\"https://colab.research.google.com/github/Xami-20/IBD_prediction/blob/main/Data_acquisition.ipynb\" target=\"_parent\"><img src=\"https://colab.research.google.com/assets/colab-badge.svg\" alt=\"Open In Colab\"/></a>"
      ]
    },
    {
      "cell_type": "markdown",
      "id": "6d1721df",
      "metadata": {
        "id": "6d1721df"
      },
      "source": [
        "# **Creating Directories**"
      ]
    },
    {
      "cell_type": "code",
      "execution_count": 1,
      "id": "04b12ce5",
      "metadata": {
        "id": "04b12ce5"
      },
      "outputs": [],
      "source": [
        "!mkdir \"./PRJEB13679_fa\"\n",
        "!mkdir \"./kmers\"\n",
        "!mkdir \"./kmers/labeled\"\n",
        "!mkdir \"./possible_kmers\"\n",
        "!mkdir \"./PRJEB13679_fa/consensus\"\n",
        "!mkdir \"./pheno_features\""
      ]
    },
    {
      "cell_type": "markdown",
      "id": "38778e05",
      "metadata": {
        "id": "38778e05"
      },
      "source": [
        "# **Packages**"
      ]
    },
    {
      "cell_type": "markdown",
      "id": "cfcb5a26",
      "metadata": {
        "id": "cfcb5a26"
      },
      "source": [
        "## **Importing Packages**"
      ]
    },
    {
      "cell_type": "code",
      "execution_count": 2,
      "id": "7d064f6c",
      "metadata": {
        "id": "7d064f6c"
      },
      "outputs": [],
      "source": [
        "import os"
      ]
    },
    {
      "cell_type": "markdown",
      "id": "4cf348ad",
      "metadata": {
        "id": "4cf348ad"
      },
      "source": [
        "## **Required installation**"
      ]
    },
    {
      "cell_type": "code",
      "execution_count": null,
      "id": "26fb216e",
      "metadata": {
        "id": "26fb216e"
      },
      "outputs": [],
      "source": [
        "# From NCBI Download SRA Toolkit to parse the data\n",
        "!sh -c \"$(wget -cv https://ftp-trace.ncbi.nlm.nih.gov/sra/sdk/3.0.0/setup-apt.sh)\"\n",
        "\n",
        "# Install and configure SRA Toolkit \n",
        "!bash setup-apt.sh\n",
        "!rm -rf *.sh\n",
        "os.environ['PATH'] += \":/usr/local/ncbi/sra-tools/bin\"\n",
        "!vdb-config -i\n",
        "\n",
        "# Get metadata for an entire NCBI Dataset\n",
        "!python -m pip install -U pysradb\n"
      ]
    },
    {
      "cell_type": "markdown",
      "id": "9e752bcf",
      "metadata": {
        "id": "9e752bcf"
      },
      "source": [
        "# **Data aquisition**"
      ]
    },
    {
      "cell_type": "markdown",
      "id": "00bb7cb7",
      "metadata": {
        "id": "00bb7cb7"
      },
      "source": [
        "## **Get detailed metadata**"
      ]
    },
    {
      "cell_type": "code",
      "execution_count": 4,
      "id": "3b6c240a",
      "metadata": {
        "id": "3b6c240a"
      },
      "outputs": [],
      "source": [
        "!pysradb srx-to-srr PRJEB13679 --detailed > \"./pheno_features/PRJEB13679.txt\"\n",
        "# The features file will be further edited and organized into \"1359_PRJEB13679_attributes.csv\""
      ]
    },
    {
      "cell_type": "markdown",
      "id": "aaad759a",
      "metadata": {
        "id": "aaad759a"
      },
      "source": [
        "## **Parsing The Data**"
      ]
    },
    {
      "cell_type": "code",
      "execution_count": null,
      "id": "0c5b73b9",
      "metadata": {
        "id": "0c5b73b9"
      },
      "outputs": [],
      "source": [
        "# *** The Treatment-Naive Microbiome in New-Onset Crohn's Disease\n",
        "# Sequence data: SRA Experiments = 1359, 731 pediatric(<=17 years old) patients with Crohn’s disease and 628 samples verified as healthy or diagnosed with other diseases\n",
        "# !prefetch PRJEB13679 \n",
        "\n",
        "# Extracting The Compressed Data samples\n",
        "os.chdir(\"./PRJEB13679\")\n",
        "!gzip -dv *gz\n",
        "\n",
        "%cd ..\n",
        "print(os.getcwd())"
      ]
    },
    {
      "cell_type": "markdown",
      "id": "f3fbc280",
      "metadata": {
        "id": "f3fbc280"
      },
      "source": [
        "## **Coverting Fastq to Fasta**"
      ]
    },
    {
      "cell_type": "code",
      "execution_count": null,
      "id": "2121627b",
      "metadata": {
        "id": "2121627b"
      },
      "outputs": [],
      "source": [
        "os.chdir(\"./PRJEB13679/\")\n",
        "counter = 0\n",
        "for i in sorted(os.listdir()):\n",
        "    counter += 1\n",
        "    file = i\n",
        "    output_path = \".././PRJEB13679_fa/\"\n",
        "    out = output_path + i[:i.find(\".fastq\")] + \".fa\"\n",
        "    print(\"{} > {} > {}\".format(counter,file,out))\n",
        "    \n",
        "    # Sed is a bash file editor tool used her fo convert Fastq to fasta\n",
        "    !sed -n '1~4s/^@/>/p;2~4p'  \"$i\" > \"$out\"\n",
        "    \n",
        "print(\"Number of Samples > {}\".format(counter))\n",
        "%cd .."
      ]
    }
  ],
  "metadata": {
    "kernelspec": {
      "display_name": "Python 3 (ipykernel)",
      "language": "python",
      "name": "python3"
    },
    "language_info": {
      "codemirror_mode": {
        "name": "ipython",
        "version": 3
      },
      "file_extension": ".py",
      "mimetype": "text/x-python",
      "name": "python",
      "nbconvert_exporter": "python",
      "pygments_lexer": "ipython3",
      "version": "3.9.12"
    },
    "colab": {
      "name": "Data Acquisition",
      "provenance": [],
      "collapsed_sections": [
        "38778e05",
        "cfcb5a26",
        "4cf348ad",
        "00bb7cb7",
        "aaad759a",
        "f3fbc280"
      ],
      "include_colab_link": true
    }
  },
  "nbformat": 4,
  "nbformat_minor": 5
}
