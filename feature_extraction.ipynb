{
 "cells": [
  {
   "cell_type": "markdown",
   "id": "fe4522bd",
   "metadata": {
    "colab_type": "text",
    "id": "view-in-github"
   },
   "source": [
    "<a href=\"https://colab.research.google.com/github/Xami-20/IBD_prediction/blob/main/feature_extraction.ipynb\" target=\"_parent\"><img src=\"https://colab.research.google.com/assets/colab-badge.svg\" alt=\"Open In Colab\"/></a>"
   ]
  },
  {
   "cell_type": "markdown",
   "id": "5d0edf0f",
   "metadata": {
    "id": "5d0edf0f"
   },
   "source": [
    "# **Packages**"
   ]
  },
  {
   "cell_type": "markdown",
   "id": "5cf1e584",
   "metadata": {
    "id": "5cf1e584"
   },
   "source": [
    "## **Required installation**"
   ]
  },
  {
   "cell_type": "code",
   "execution_count": null,
   "id": "3fe58335",
   "metadata": {
    "id": "3fe58335"
   },
   "outputs": [],
   "source": [
    "# Screed is a Python library for reading in FASTA/FASTQ file\n",
    "# File can be uncompressed, gzipped, or bz2-zipped\n",
    "!python -m pip install screed"
   ]
  },
  {
   "cell_type": "markdown",
   "id": "88b6d964",
   "metadata": {
    "id": "88b6d964"
   },
   "source": [
    "## **Importing Packages**"
   ]
  },
  {
   "cell_type": "code",
   "execution_count": null,
   "id": "ef982b99",
   "metadata": {
    "id": "ef982b99"
   },
   "outputs": [],
   "source": [
    "import os\n",
    "import screed # To read Sequence files\n",
    "from itertools import product\n",
    "import pandas as pd"
   ]
  },
  {
   "cell_type": "markdown",
   "id": "e2af2dc5",
   "metadata": {
    "id": "e2af2dc5"
   },
   "source": [
    "# **Kmers**"
   ]
  },
  {
   "cell_type": "markdown",
   "id": "f710dccf",
   "metadata": {
    "id": "f710dccf"
   },
   "source": [
    "## **Kmer extraction and encoding functions**"
   ]
  },
  {
   "cell_type": "code",
   "execution_count": null,
   "id": "53456384",
   "metadata": {
    "id": "53456384"
   },
   "outputs": [],
   "source": [
    "def get_K_mer(seq, k_size):\n",
    "    # Function to get K-mer from Sequence\n",
    "    k_mers = []\n",
    "    num_kmers = len(seq) - k_size + 1\n",
    "    for i in range(num_kmers):\n",
    "        k_mer = seq[i:i + k_size]\n",
    "        k_mers.append(k_mer)\n",
    "    return k_mers\n",
    "\n",
    "def seq2binary(kmer):\n",
    "    binary = \"\"\n",
    "    for i in kmer:\n",
    "        i = i.upper()\n",
    "        if i == \"A\":\n",
    "            binary += \"00\"\n",
    "        elif i == \"T\":\n",
    "            binary += \"01\"\n",
    "        elif i == \"C\":\n",
    "            binary += \"10\"\n",
    "        elif i == \"G\":\n",
    "            binary += \"11\"\n",
    "    return binary\n",
    "\n",
    "def binary2decimal(binary):\n",
    "    try:\n",
    "        x = int(binary,2)\n",
    "        return x\n",
    "    except:\n",
    "        return (-1)\n",
    "\n",
    "def seq_file2kmers(file, k_size):\n",
    "    Seq_kmers = {}\n",
    "    for record in screed.open(file):\n",
    "        seq = record.sequence\n",
    "        name = record.name\n",
    "        kmers = get_K_mer(seq, k_size)\n",
    "        for mer in range(len(kmers)):\n",
    "            kmers[mer] = binary2decimal(seq2binary(kmers[mer]))\n",
    "        underscore = name.find(\"_\")\n",
    "        if underscore > 1:\n",
    "            n = name[:underscore]\n",
    "        else:\n",
    "            n = name\n",
    "        if n in list(Seq_kmers.keys()):\n",
    "            Seq_kmers[n].extend(kmers)\n",
    "        else:\n",
    "            Seq_kmers[n] = kmers # Dictinary of the Sequence names and their respective k-mers\n",
    "    return Seq_kmers\n"
   ]
  },
  {
   "cell_type": "markdown",
   "id": "0f8f0858",
   "metadata": {
    "id": "0f8f0858"
   },
   "source": [
    "## **kmer Reference**"
   ]
  },
  {
   "cell_type": "code",
   "execution_count": null,
   "id": "02d870f9",
   "metadata": {
    "id": "02d870f9"
   },
   "outputs": [],
   "source": [
    "Dbases = \"ATCG\"\n",
    "\n",
    "for kmer in range(4,10):\n",
    "    path = \"./possible_kmers/\" + str(kmer) + \"-mer_reference.csv\"\n",
    "    with open(path,\"w\") as file:\n",
    "        file.write(\"{}-mers,Decimal Value\".format(str(kmer)))\n",
    "        for i in product(Dbases, repeat = kmer):\n",
    "            binary = \"\"\n",
    "            mer = ''.join(i)\n",
    "            decimal = str(binary2decimal(seq2binary(mer)))\n",
    "            file.write(\"\\n{},{}\".format(str(mer),decimal))\n",
    "    print('{}'.format(kmer))"
   ]
  },
  {
   "cell_type": "markdown",
   "id": "374b5099",
   "metadata": {
    "id": "374b5099"
   },
   "source": [
    "## **Generating kmers vector from Reference**"
   ]
  },
  {
   "cell_type": "code",
   "execution_count": null,
   "id": "82917def",
   "metadata": {},
   "outputs": [],
   "source": [
    "def gen_kmer(kmer_val):\n",
    "    data_path = \"./PRJEB13679_fa/\"\n",
    "    if os.getcwd()[os.getcwd().rfind(\"\\\\\",)+1:] != data_path[2:-1]:\n",
    "        os.chdir(data_path)\n",
    "        # print(os.getcwd())\n",
    "\n",
    "    path = \".././kmers/\" + str(kmer_val) + \"-mers_decimal_PRJEB13679.csv\"\n",
    "\n",
    "    output = open(path,'w')\n",
    "    output.write(\"sample\")\n",
    "    ref_path = \".././possible_kmers/\" + str(kmer_val) + \"-mer_reference.csv\"\n",
    "    ref = pd.read_csv(ref_path)\n",
    "    \n",
    "    ref_kmers = ref[\"{}-mers\".format(kmer_val)].tolist()\n",
    "    ref_values = ref['Decimal Value'].tolist()\n",
    "    del ref\n",
    "    for i in ref_kmers:\n",
    "        output.write(\",{}\".format(i))\n",
    "    output.write(\"\\n\")\n",
    "    \n",
    "    ref_dict = dict(zip(ref_kmers, ref_values))\n",
    "    del ref_kmers\n",
    "    ref_freq = dict(zip(ref_values,[0]*len(ref_values)))\n",
    "    del ref_values\n",
    "                     \n",
    "    for i in sorted(os.listdir()):\n",
    "        kmer = seq_file2kmers(i, kmer_val)\n",
    "        for n, k in kmer.items():\n",
    "            name = n\n",
    "            kmers = k\n",
    "        del kmer\n",
    "        print(name)\n",
    "        output.write(\"{}\".format(str(name)))\n",
    "\n",
    "        for mer in kmers:\n",
    "            ref_freq[mer] +=1\n",
    "        for val in ref_freq.values():\n",
    "            output.write(\",{}\".format(val))\n",
    "        output.write(\"\\n\")\n",
    "        del kmers,name\n",
    "\n",
    "    output.close()\n",
    "    os.chdir(\".././\")\n",
    "    # print(os.getcwd())"
   ]
  },
  {
   "cell_type": "code",
   "execution_count": null,
   "id": "466aa6b0",
   "metadata": {},
   "outputs": [
    {
     "name": "stdout",
     "output_type": "stream",
     "text": [
      "1939.121455\n",
      "1939.121456\n",
      "1939.121457\n",
      "1939.121461\n",
      "1939.121463\n",
      "1939.121464\n",
      "1939.121465\n",
      "1939.121466\n",
      "1939.121467\n",
      "1939.121468\n"
     ]
    }
   ],
   "source": [
    "for i in range(7,10):\n",
    "    gen_kmer(i)"
   ]
  },
  {
   "cell_type": "markdown",
   "id": "1ef2eb4f",
   "metadata": {
    "id": "1ef2eb4f"
   },
   "source": [
    "# **Phenotypic features**"
   ]
  },
  {
   "cell_type": "markdown",
   "id": "ccfa11b2",
   "metadata": {
    "id": "ccfa11b2"
   },
   "source": [
    "## **Generating feature files**"
   ]
  },
  {
   "cell_type": "code",
   "execution_count": null,
   "id": "efb3fae8",
   "metadata": {
    "id": "efb3fae8"
   },
   "outputs": [],
   "source": [
    "df = pd.read_csv('./pheno_features/1359_PRJEB13679_attributes.csv')\n",
    "# df = df[[\"library_name\",\"total_spots\",\"total_size\",\"run_total_spots\",\"run_total_bases\",\"age\",\"biopsy_location\",\"body_site\",\"diagnosis\",\"disease_extent\",\"disease_stat\",\"diseasesubtype\",\"elevation\",\"gastrointest_disord\",\"inflammationstatus\",\"latitude\",\"longitude\",\"race\",\"sex\"]]\n",
    "df = df[[\"library_name\",\"biopsy_location\",\"body_site\",\"sex\",\"race\",\"age\",\"diagnosis\",\"gastrointest_disord\",\"disease_extent\",\"disease_stat\",\"diseasesubtype\",\"inflammationstatus\",\"latitude\",\"longitude\"]]\n",
    "df = df.drop(columns=[\"diagnosis\"])\n",
    "df.rename(columns = {'gastrointest_disord':'diagnosis',\"library_name\":\"sample\"}, inplace = True)\n",
    "df.to_csv('./pheno_features/1359_features.csv', index=False)\n",
    "\n",
    "# Extracting Labels and sex only \n",
    "labels = df[[\"sample\",\"diagnosis\",\"sex\"]]\n",
    "labels.to_csv('./pheno_features/1359_labels.csv', index=False)"
   ]
  },
  {
   "cell_type": "markdown",
   "id": "c9348a07",
   "metadata": {
    "id": "c9348a07"
   },
   "source": [
    "# **Adding Labels to Kmer files**"
   ]
  },
  {
   "cell_type": "code",
   "execution_count": null,
   "id": "45ab709d",
   "metadata": {
    "id": "45ab709d"
   },
   "outputs": [],
   "source": [
    "labels = pd.read_csv('./pheno_features/1359_labels.csv')\n",
    "labels = labels.sort_values(\"sample\")\n",
    "\n",
    "for i in sorted(os.listdir(\"./kmers\")):\n",
    "    print(i)\n",
    "    if i.endswith(\"decimal_PRJEB13679.csv\"):\n",
    "        kmers = \"./kmers/\" + i\n",
    "        df = pd.read_csv(kmers)\n",
    "        out = pd.merge(labels, df, on = \"sample\")\n",
    "        del df\n",
    "        out = out.drop(columns=[\"sex\"])\n",
    "        save = \"./kmers/labeled/\" + i\n",
    "        out.to_csv(save,index=False)\n",
    "        # break\n",
    "# print(df.head(3))\n",
    "# print(labels.head(3))\n",
    "# print(out.head(3))\n",
    "# print(df.shape[1])"
   ]
  }
 ],
 "metadata": {
  "colab": {
   "collapsed_sections": [],
   "include_colab_link": true,
   "name": "feature_extraction",
   "provenance": []
  },
  "kernelspec": {
   "display_name": "Python 3 (ipykernel)",
   "language": "python",
   "name": "python3"
  },
  "language_info": {
   "codemirror_mode": {
    "name": "ipython",
    "version": 3
   },
   "file_extension": ".py",
   "mimetype": "text/x-python",
   "name": "python",
   "nbconvert_exporter": "python",
   "pygments_lexer": "ipython3",
   "version": "3.9.12"
  }
 },
 "nbformat": 4,
 "nbformat_minor": 5
}
