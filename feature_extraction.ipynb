{
  "cells": [
    {
      "cell_type": "markdown",
      "metadata": {
        "id": "view-in-github",
        "colab_type": "text"
      },
      "source": [
        "<a href=\"https://colab.research.google.com/github/Xami-20/IBD_prediction/blob/main/feature_extraction.ipynb\" target=\"_parent\"><img src=\"https://colab.research.google.com/assets/colab-badge.svg\" alt=\"Open In Colab\"/></a>"
      ]
    },
    {
      "cell_type": "markdown",
      "id": "5d0edf0f",
      "metadata": {
        "id": "5d0edf0f"
      },
      "source": [
        "# **Packages**"
      ]
    },
    {
      "cell_type": "markdown",
      "id": "5cf1e584",
      "metadata": {
        "id": "5cf1e584"
      },
      "source": [
        "## **Required installation**"
      ]
    },
    {
      "cell_type": "code",
      "execution_count": null,
      "id": "3fe58335",
      "metadata": {
        "id": "3fe58335"
      },
      "outputs": [],
      "source": [
        "# Screed is a Python library for reading in FASTA/FASTQ file\n",
        "# File can be uncompressed, gzipped, or bz2-zipped\n",
        "!python -m pip install screed"
      ]
    },
    {
      "cell_type": "markdown",
      "id": "88b6d964",
      "metadata": {
        "id": "88b6d964"
      },
      "source": [
        "## **Importing Packages**"
      ]
    },
    {
      "cell_type": "code",
      "execution_count": null,
      "id": "ef982b99",
      "metadata": {
        "id": "ef982b99"
      },
      "outputs": [],
      "source": [
        "import os\n",
        "import screed # To read Sequence files\n",
        "from itertools import product\n",
        "import pandas as pd"
      ]
    },
    {
      "cell_type": "markdown",
      "id": "e9cccab6",
      "metadata": {
        "id": "e9cccab6"
      },
      "source": [
        "# **Extracting the Consensus sequence from the fasta files**"
      ]
    },
    {
      "cell_type": "code",
      "execution_count": null,
      "id": "fef9db16",
      "metadata": {
        "id": "fef9db16"
      },
      "outputs": [],
      "source": [
        "data_path = \"./PRJEB13679_fa/\"\n",
        "os.chdir(data_path)\n",
        "# print(os.getcwd())\n",
        "data_file = \"./consensus/consensus_data.fa\"\n",
        "\n",
        "output = open(data_file,'w')\n",
        "for i in sorted(os.listdir()):\n",
        "    src_file = i\n",
        "    profile = {\"A\": [], \"T\": [], \"C\": [], \"G\": []}\n",
        "    reads = []\n",
        "    with open(src_file,'r') as file:\n",
        "        for line in file:\n",
        "            if line.startswith(\">\")== False:\n",
        "                line = line.strip()\n",
        "                reads.append(line)\n",
        "    del line    \n",
        "    for seq in reads:\n",
        "        for base in range(len(seq)):\n",
        "            if seq[base].upper() == \"A\":\n",
        "                if len(profile[\"A\"]) <= base:\n",
        "                    profile[\"A\"].append(1)\n",
        "                    profile[\"T\"].append(0)\n",
        "                    profile[\"C\"].append(0)\n",
        "                    profile[\"G\"].append(0)\n",
        "                elif len(profile[\"A\"]) > base:\n",
        "                    profile[\"A\"][base] += 1\n",
        "        \n",
        "            elif seq[base].upper() == \"T\":\n",
        "                if len(profile[\"T\"]) <= base:\n",
        "                    profile[\"A\"].append(0)\n",
        "                    profile[\"T\"].append(1)\n",
        "                    profile[\"C\"].append(0)\n",
        "                    profile[\"G\"].append(0)\n",
        "                elif len(profile[\"T\"]) > base:\n",
        "                    profile[\"T\"][base] += 1\n",
        "        \n",
        "            elif seq[base].upper() == \"C\":\n",
        "                if len(profile[\"C\"]) <= base:\n",
        "                    profile[\"A\"].append(0)\n",
        "                    profile[\"T\"].append(0)\n",
        "                    profile[\"C\"].append(1)\n",
        "                    profile[\"G\"].append(0)\n",
        "                elif len(profile[\"C\"]) > base:\n",
        "                    profile[\"C\"][base] += 1\n",
        "        \n",
        "            elif seq[base].upper() == \"G\":\n",
        "                if len(profile[\"G\"]) <= base:\n",
        "                    profile[\"A\"].append(0)\n",
        "                    profile[\"T\"].append(0)\n",
        "                    profile[\"C\"].append(0)\n",
        "                    profile[\"G\"].append(1)\n",
        "                elif len(profile[\"G\"]) > base:\n",
        "                    profile[\"G\"][base] += 1\n",
        "        \n",
        "    del seq,reads\n",
        "    scores = [0]*len(profile[\"A\"])\n",
        "    matrix = profile.values()\n",
        "    for base in matrix:\n",
        "        for index in range(len(scores)):\n",
        "            if base[index] > scores[index]:\n",
        "                scores[index] = base[index]\n",
        "    read = \"\"\n",
        "    for index in range(len(scores)):\n",
        "        if profile[\"A\"][index] == scores[index]:\n",
        "            read += \"A\"\n",
        "        elif profile[\"T\"][index] == scores[index]:\n",
        "            read += \"T\"\n",
        "        elif profile[\"C\"][index] == scores[index]:\n",
        "            read += \"C\"\n",
        "        elif profile[\"G\"][index] == scores[index]:\n",
        "            read += \"G\"\n",
        "    if len(read) < len(scores):\n",
        "        print(\"\\n\\n\\t***\\tMissing bases\\t***\\t !!!\")\n",
        "        print(\"\\n\\t***\\t{}\\t***\\t !!!\".format(src_file))\n",
        "    \n",
        "    del scores, profile\n",
        "    \n",
        "    sample = src_file[:src_file.find(\".fa\")]\n",
        "    output.write(\">{}\\n{}\\n\".format(sample,read))\n",
        "    \n",
        "    del sample,read\n",
        "#     print(data)\n",
        "#     break\n",
        "output.close()"
      ]
    },
    {
      "cell_type": "markdown",
      "id": "e2af2dc5",
      "metadata": {
        "id": "e2af2dc5"
      },
      "source": [
        "# **Kmers**"
      ]
    },
    {
      "cell_type": "markdown",
      "id": "f710dccf",
      "metadata": {
        "id": "f710dccf"
      },
      "source": [
        "## **Kmer extraction and encoding functions**"
      ]
    },
    {
      "cell_type": "code",
      "execution_count": null,
      "id": "53456384",
      "metadata": {
        "id": "53456384"
      },
      "outputs": [],
      "source": [
        "def get_K_mer(seq, k_size):\n",
        "    # Function to get K-mer from Sequence\n",
        "    k_mers = []\n",
        "    num_kmers = len(seq) - k_size + 1\n",
        "    for i in range(num_kmers):\n",
        "        k_mer = seq[i:i + k_size]\n",
        "        k_mers.append(k_mer)\n",
        "    return k_mers\n",
        "\n",
        "def seq2binary(kmer):\n",
        "    binary = \"\"\n",
        "    for i in kmer:\n",
        "        i = i.upper()\n",
        "        if i == \"A\":\n",
        "            binary += \"00\"\n",
        "        elif i == \"T\":\n",
        "            binary += \"01\"\n",
        "        elif i == \"C\":\n",
        "            binary += \"10\"\n",
        "        elif i == \"G\":\n",
        "            binary += \"11\"\n",
        "    return binary\n",
        "\n",
        "def binary2decimal(binary):\n",
        "    try:\n",
        "        x = int(binary,2)\n",
        "        return x\n",
        "    except:\n",
        "        return (-1)\n",
        "\n",
        "def seq_file2kmers(file, k_size):\n",
        "    Seq_kmers = {}\n",
        "    for record in screed.open(file):\n",
        "        seq = record.sequence\n",
        "        name = record.name\n",
        "        kmers = get_K_mer(seq, k_size)\n",
        "        for mer in range(len(kmers)):\n",
        "            kmers[mer] = binary2decimal(seq2binary(kmers[mer]))\n",
        "        underscore = name.find(\"_\")\n",
        "        if underscore > 1:\n",
        "            n = name[:underscore]\n",
        "        else:\n",
        "            n = name\n",
        "        if n in list(Seq_kmers.keys()):\n",
        "            Seq_kmers[n].extend(kmers)\n",
        "        else:\n",
        "            Seq_kmers[n] = kmers # Dictinary of the Sequence names and their respective k-mers\n",
        "    return Seq_kmers\n"
      ]
    },
    {
      "cell_type": "markdown",
      "id": "0f8f0858",
      "metadata": {
        "id": "0f8f0858"
      },
      "source": [
        "## **kmer Reference**"
      ]
    },
    {
      "cell_type": "code",
      "execution_count": null,
      "id": "02d870f9",
      "metadata": {
        "id": "02d870f9"
      },
      "outputs": [],
      "source": [
        "Dbases = \"ATCG\"\n",
        "\n",
        "for kmer in range(4,15):\n",
        "    path = \"./possible_kmers/\" + str(kmer) + \"-mer_reference.csv\"\n",
        "    with open(path,\"w\") as file:\n",
        "        file.write(\"Decimal Value,{}-mers\".format(str(kmer)))\n",
        "        for i in product(Dbases, repeat = kmer):\n",
        "            binary = \"\"\n",
        "            mer = ''.join(i)\n",
        "            decimal = str(binary2decimal(seq2binary(mer)))\n",
        "            file.write(\"\\n{},{}\".format(decimal,str(mer)))\n",
        "    print('{}'.format(kmer))"
      ]
    },
    {
      "cell_type": "markdown",
      "id": "374b5099",
      "metadata": {
        "id": "374b5099"
      },
      "source": [
        "## **Generating kmers from a consensus data file**"
      ]
    },
    {
      "cell_type": "code",
      "execution_count": null,
      "id": "25242175",
      "metadata": {
        "id": "25242175"
      },
      "outputs": [],
      "source": [
        "src_file = \"./PRJEB13679_fa/consensus/consensus_data.fa\"\n",
        "\n",
        "for k in range(4,26):\n",
        "    print('\\n\\t\\t\\t\\t\\t\\t{}\\n\\n'.format(k))\n",
        "    path = \"./kmers/\" + str(k) + \"-mers_decimal_PRJEB13679.csv\"\n",
        "    with open(path,\"w\") as file:\n",
        "        x = seq_file2kmers(src_file,k)\n",
        "        counter = 0\n",
        "        l = len(x.keys())\n",
        "        for key, val in x.items():\n",
        "            counter += 1\n",
        "            file.write(str(key))\n",
        "            print(\"{:.2f} %\".format((counter*100)/l))\n",
        "            for element in val:\n",
        "                file.write(\",{}\".format(str(element)))\n",
        "            file.write(\"\\n\")    "
      ]
    },
    {
      "cell_type": "markdown",
      "id": "1ef2eb4f",
      "metadata": {
        "id": "1ef2eb4f"
      },
      "source": [
        "# **Phenotypic features**"
      ]
    },
    {
      "cell_type": "markdown",
      "id": "ccfa11b2",
      "metadata": {
        "id": "ccfa11b2"
      },
      "source": [
        "## **Generating feature files**"
      ]
    },
    {
      "cell_type": "code",
      "execution_count": null,
      "id": "efb3fae8",
      "metadata": {
        "id": "efb3fae8"
      },
      "outputs": [],
      "source": [
        "df = pd.read_csv('./pheno_features/1359_PRJEB13679_attributes.csv')\n",
        "# df = df[[\"library_name\",\"total_spots\",\"total_size\",\"run_total_spots\",\"run_total_bases\",\"age\",\"biopsy_location\",\"body_site\",\"diagnosis\",\"disease_extent\",\"disease_stat\",\"diseasesubtype\",\"elevation\",\"gastrointest_disord\",\"inflammationstatus\",\"latitude\",\"longitude\",\"race\",\"sex\"]]\n",
        "df = df[[\"library_name\",\"biopsy_location\",\"body_site\",\"sex\",\"race\",\"age\",\"diagnosis\",\"gastrointest_disord\",\"disease_extent\",\"disease_stat\",\"diseasesubtype\",\"inflammationstatus\",\"latitude\",\"longitude\"]]\n",
        "df = df.drop(columns=[\"diagnosis\"])\n",
        "df.rename(columns = {'gastrointest_disord':'diagnosis',\"library_name\":\"sample\"}, inplace = True)\n",
        "df.to_csv('./pheno_features/1359_features.csv', index=False)\n",
        "\n",
        "# Extracting Labels and sex only \n",
        "labels = df[[\"sample\",\"diagnosis\",\"sex\"]]\n",
        "labels.to_csv('./pheno_features/1359_labels.csv', index=False)"
      ]
    },
    {
      "cell_type": "markdown",
      "id": "c9348a07",
      "metadata": {
        "id": "c9348a07"
      },
      "source": [
        "# **Adding Labels to Kmer files**"
      ]
    },
    {
      "cell_type": "code",
      "execution_count": null,
      "id": "45ab709d",
      "metadata": {
        "id": "45ab709d"
      },
      "outputs": [],
      "source": [
        "labels = pd.read_csv('./pheno_features/1359_labels.csv')\n",
        "labels = labels.sort_values(\"sample\")\n",
        "\n",
        "for i in sorted(os.listdir(\"./kmers\")):\n",
        "    print(i)\n",
        "    if i.endswith(\"decimal_PRJEB13679.csv\"):\n",
        "        kmers = \"./kmers/\" + i\n",
        "        df = pd.read_csv(kmers,header=None)\n",
        "        columns = [\"sample\"]\n",
        "        for index in range(1,df.shape[1]):\n",
        "            columns.append(\"kmer_feature_{}\".format(index))\n",
        "        # print(df.shape)\n",
        "        # print(columns)\n",
        "        # print(len(columns))\n",
        "        df.columns = columns # adding data header\n",
        "        del columns\n",
        "        out = pd.merge(labels, df, on = \"sample\")\n",
        "        del df\n",
        "        out = out.drop(columns=[\"sex\"])\n",
        "        save = \"./kmers/labeled/\" + i\n",
        "        out.to_csv(save,index=False)\n",
        "        # break\n",
        "    \n",
        "# print(df.head(3))\n",
        "# print(labels.head(3))\n",
        "# print(out.head(3))\n",
        "# print(df.shape[1])"
      ]
    }
  ],
  "metadata": {
    "kernelspec": {
      "display_name": "Python 3 (ipykernel)",
      "language": "python",
      "name": "python3"
    },
    "language_info": {
      "codemirror_mode": {
        "name": "ipython",
        "version": 3
      },
      "file_extension": ".py",
      "mimetype": "text/x-python",
      "name": "python",
      "nbconvert_exporter": "python",
      "pygments_lexer": "ipython3",
      "version": "3.9.12"
    },
    "colab": {
      "name": "feature_extraction",
      "provenance": [],
      "collapsed_sections": [],
      "include_colab_link": true
    }
  },
  "nbformat": 4,
  "nbformat_minor": 5
}